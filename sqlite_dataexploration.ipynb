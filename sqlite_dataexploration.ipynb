{
  "nbformat": 4,
  "nbformat_minor": 0,
  "metadata": {
    "colab": {
      "provenance": [],
      "authorship_tag": "ABX9TyPuINLTDyTnfxUURtBs92Is",
      "include_colab_link": true
    },
    "kernelspec": {
      "name": "python3",
      "display_name": "Python 3"
    },
    "language_info": {
      "name": "python"
    }
  },
  "cells": [
    {
      "cell_type": "markdown",
      "metadata": {
        "id": "view-in-github",
        "colab_type": "text"
      },
      "source": [
        "<a href=\"https://colab.research.google.com/github/angiew-02/sqlite_dataexploration/blob/main/sqlite_dataexploration.ipynb\" target=\"_parent\"><img src=\"https://colab.research.google.com/assets/colab-badge.svg\" alt=\"Open In Colab\"/></a>"
      ]
    },
    {
      "cell_type": "code",
      "execution_count": 1,
      "metadata": {
        "id": "WzqFPxfuKgjU"
      },
      "outputs": [],
      "source": [
        "import pandas as pd\n",
        "import sqlite3"
      ]
    },
    {
      "cell_type": "markdown",
      "source": [
        "# Create Connection to SQLite Database"
      ],
      "metadata": {
        "id": "SIVQn3LwPEZ2"
      }
    },
    {
      "cell_type": "code",
      "source": [
        "conn = sqlite3.connect('healthcare.db')"
      ],
      "metadata": {
        "id": "DH04i_-uMtrO"
      },
      "execution_count": 2,
      "outputs": []
    },
    {
      "cell_type": "markdown",
      "source": [
        "# Create Pandas DataFrame"
      ],
      "metadata": {
        "id": "FYI2pDTeO_QB"
      }
    },
    {
      "cell_type": "code",
      "source": [
        "df=pd.read_csv('https://data.cdc.gov/resource/rqg5-mkef.csv')\n",
        "print(df)"
      ],
      "metadata": {
        "colab": {
          "base_uri": "https://localhost:8080/"
        },
        "id": "pJspgjpRKxBG",
        "outputId": "b80fc68b-040a-48aa-fe4b-b8a7cbfd423d"
      },
      "execution_count": 3,
      "outputs": [
        {
          "output_type": "stream",
          "name": "stdout",
          "text": [
            "      state_not_geocoded                                              state  \\\n",
            "0                Alabama              \\n, Alabama \\n(32.839182, -86.631125)   \n",
            "1                 Alaska              \\n, Alaska \\n(64.836661, -147.738891)   \n",
            "2                Arizona             \\n, Arizona \\n(34.869712, -111.760902)   \n",
            "3               Arkansas             \\n, Arkansas \\n(34.748745, -92.275105)   \n",
            "4             California          \\n, California \\n(37.640735, -121.002435)   \n",
            "5               Colorado            \\n, Colorado \\n(38.841772, -106.132562)   \n",
            "6            Connecticut          \\n, Connecticut \\n(41.544654, -72.651713)   \n",
            "7               Delaware             \\n, Delaware \\n(39.008676, -75.574561)   \n",
            "8   District of Columbia  \\n, District of Columbia \\n(38.892062, -77.019...   \n",
            "9                Florida              \\n, Florida \\n(28.915325, -81.922409)   \n",
            "10               Georgia              \\n, Georgia \\n(32.836038, -83.631709)   \n",
            "11                Hawaii               \\n, Hawaii \\n(21.30992, -157.858158)   \n",
            "12                 Idaho               \\n, Idaho \\n(43.680635, -114.364237)   \n",
            "13              Illinois             \\n, Illinois \\n(40.477092, -88.993221)   \n",
            "14               Indiana               \\n, Indiana \\n(39.76845, -86.156212)   \n",
            "15                  Iowa                  \\n, Iowa \\n(42.46942, -93.815856)   \n",
            "16                Kansas               \\n, Kansas \\n(38.345528, -98.201847)   \n",
            "17              Kentucky              \\n, Kentucky \\n(37.64591, -84.774043)   \n",
            "18             Louisiana              \\n, Louisiana \\n(31.2931, -92.463284)   \n",
            "19                 Maine                \\n, Maine \\n(45.252223, -68.986647)   \n",
            "20              Maryland             \\n, Maryland \\n(39.290443, -76.612333)   \n",
            "21         Massachusetts        \\n, Massachusetts \\n(42.268546, -72.085064)   \n",
            "22              Michigan              \\n, Michigan \\n(44.66399, -84.711206)   \n",
            "23             Minnesota            \\n, Minnesota \\n(46.357661, -94.793397)   \n",
            "24           Mississippi          \\n, Mississippi \\n(32.738663, -89.537312)   \n",
            "25              Missouri             \\n, Missouri \\n(38.636168, -92.566292)   \n",
            "26               Montana             \\n, Montana \\n(47.062617, -109.430168)   \n",
            "27              Nebraska             \\n, Nebraska \\n(41.640503, -99.367122)   \n",
            "28                Nevada              \\n, Nevada \\n(39.491833, -117.070159)   \n",
            "29         New Hampshire        \\n, New Hampshire \\n(43.657736, -71.500736)   \n",
            "30            New Jersey           \\n, New Jersey \\n(40.104655, -74.386686)   \n",
            "31            New Mexico          \\n, New Mexico \\n(34.520396, -106.244402)   \n",
            "32              New York             \\n, New York \\n(42.826892, -75.544286)   \n",
            "33        North Carolina        \\n, North Carolina \\n(35.47995, -79.180571)   \n",
            "34          North Dakota        \\n, North Dakota \\n(47.475879, -100.121011)   \n",
            "35                  Ohio                 \\n, Ohio \\n(40.056807, -82.405897)   \n",
            "36              Oklahoma             \\n, Oklahoma \\n(35.468494, -97.521264)   \n",
            "37                Oregon              \\n, Oregon \\n(44.567912, -120.156945)   \n",
            "38          Pennsylvania         \\n, Pennsylvania \\n(40.789676, -77.858055)   \n",
            "39          Rhode Island         \\n, Rhode Island \\n(41.707447, -71.522488)   \n",
            "40        South Carolina       \\n, South Carolina \\n(34.009286, -81.037094)   \n",
            "41          South Dakota         \\n, South Dakota \\n(44.35371, -100.373709)   \n",
            "42             Tennessee            \\n, Tennessee \\n(35.681402, -85.774444)   \n",
            "43                 Texas                \\n, Texas \\n(31.827233, -99.423022)   \n",
            "44         United States        \\n, United States \\n(18.060868, -64.840836)   \n",
            "45                  Utah                \\n, Utah \\n(39.359772, -111.584173)   \n",
            "46               Vermont               \\n, Vermont \\n(43.622479, -72.51927)   \n",
            "47              Virginia              \\n, Virginia \\n(37.542699, -78.45822)   \n",
            "48            Washington          \\n, Washington \\n(47.517368, -120.467672)   \n",
            "49         West Virginia        \\n, West Virginia \\n(38.668501, -80.709421)   \n",
            "50             Wisconsin            \\n, Wisconsin \\n(44.395526, -89.834513)   \n",
            "51               Wyoming              \\n, Wyoming \\n(43.23558, -108.110518)   \n",
            "52                   NaN                                                NaN   \n",
            "\n",
            "    all_ages  all_ages_2014  age_0_20  age_0_20_2014  age_21_34  \\\n",
            "0       13.7           13.0       8.6            6.9       20.8   \n",
            "1        5.4            5.9       NaN            NaN        NaN   \n",
            "2        7.4            6.0       5.0            3.4       12.0   \n",
            "3       13.8           12.0       8.0            6.2       20.3   \n",
            "4        4.2            4.3       2.4            2.7        6.9   \n",
            "5        5.8            6.0       3.3            3.6        8.8   \n",
            "6        4.1            4.0       NaN            NaN        7.5   \n",
            "7        6.9            8.2       NaN            NaN       13.0   \n",
            "8        NaN            NaN       NaN            NaN        NaN   \n",
            "9        6.4            6.1       3.5            3.1       10.0   \n",
            "10       8.5            8.3       3.9            3.7       12.1   \n",
            "11       4.0            2.6       NaN            NaN        NaN   \n",
            "12       8.6            8.6       4.5            5.4       12.0   \n",
            "13       4.7            5.0       2.5            2.4        8.8   \n",
            "14       8.1            7.9       5.0            3.1       12.0   \n",
            "15       8.7            7.4       4.4            4.5       11.7   \n",
            "16      11.0           10.4       7.5            5.8       13.9   \n",
            "17      12.9           11.5       6.7            6.2       19.7   \n",
            "18      10.4           11.2       6.9            5.9       15.6   \n",
            "19       9.4            7.5       6.6            NaN       18.0   \n",
            "20       5.3            4.4       3.3            1.4        9.3   \n",
            "21       2.9            3.0       1.8            1.2        4.7   \n",
            "22       6.2            6.0       3.8            3.7       10.9   \n",
            "23       5.1            5.2       2.9            2.3        7.8   \n",
            "24      16.0           16.4       8.6            9.2       24.6   \n",
            "25      10.2            9.5       5.5            6.2       15.3   \n",
            "26      16.4           14.8      10.6           10.2       29.6   \n",
            "27       9.2           10.3       7.7            4.7       13.6   \n",
            "28       5.4            5.3       3.5            4.1        6.2   \n",
            "29       5.0            4.6       NaN            NaN        NaN   \n",
            "30       3.6            3.4       2.1            2.1        6.2   \n",
            "31      11.1           11.9       6.0            7.0       14.3   \n",
            "32       3.1            2.8       1.7            1.3        4.1   \n",
            "33       8.6            8.9       5.1            5.2       12.5   \n",
            "34      20.2           14.6      11.0            NaN       25.2   \n",
            "35       6.9            6.5       3.6            3.7        9.6   \n",
            "36      14.3           14.2       6.0            7.9       22.7   \n",
            "37       5.1            6.0       2.6            3.4        7.9   \n",
            "38       6.8            6.1       4.5            2.7       11.1   \n",
            "39       4.5            2.3       NaN            NaN        NaN   \n",
            "40      12.0           12.0       6.8            7.6       19.8   \n",
            "41      12.0           12.5       9.5            NaN       17.9   \n",
            "42      11.7           11.1       6.1            5.4       16.4   \n",
            "43       9.1            9.5       5.2            5.1       14.5   \n",
            "44       7.0            6.8       4.0            3.7       10.8   \n",
            "45       5.5            5.9       2.5            3.5        6.7   \n",
            "46       8.4            4.5       NaN            NaN       19.2   \n",
            "47       6.8            6.0       3.9            3.0        8.9   \n",
            "48       3.9            4.3       2.1            2.6        5.3   \n",
            "49      13.1           11.1       5.9            5.3       22.6   \n",
            "50       7.4            6.5       4.8            3.4       10.9   \n",
            "51      17.5           21.0       NaN            NaN       29.5   \n",
            "52       NaN            NaN       NaN            4.3        NaN   \n",
            "\n",
            "    age_21_34_2014  age_35_54  age_35_54_2014  age_55  age_55_2014  male  \\\n",
            "0             17.8       12.6            14.2    15.5         14.6  17.6   \n",
            "1              NaN        NaN             NaN     NaN          NaN   5.5   \n",
            "2              8.4        7.3             6.0     6.9          6.9  10.2   \n",
            "3             15.1       13.8            13.6    16.2         14.0  17.3   \n",
            "4              6.9        4.0             3.5     4.5          4.7   5.6   \n",
            "5              8.7        4.8             5.5     7.3          6.7   7.4   \n",
            "6              7.9        4.0             4.0     5.2          3.5   5.4   \n",
            "7             16.6        NaN             NaN     NaN          9.7  10.0   \n",
            "8              NaN        NaN             NaN     NaN          NaN   NaN   \n",
            "9              9.5        6.7             6.0     7.2          6.7   8.4   \n",
            "10            11.1        8.2             8.5    12.1         10.6  11.7   \n",
            "11             NaN        NaN             NaN     NaN          NaN   5.7   \n",
            "12            11.4        8.8             7.3    10.9         10.6  10.4   \n",
            "13             7.6        3.6             4.3     5.6          6.3   6.3   \n",
            "14            12.8        7.2             8.4     9.9          8.7  10.9   \n",
            "15             8.5        9.6             8.2    10.3          8.8  11.3   \n",
            "16            14.6       10.7             8.8    13.1         13.6  15.1   \n",
            "17            16.3       13.4            11.9    13.7         13.1  15.7   \n",
            "18            16.9       10.3            12.6    10.5         11.0  13.9   \n",
            "19             9.8        7.3             8.1     9.1          9.3  13.2   \n",
            "20             8.9        4.2             3.2     6.1          5.2   7.1   \n",
            "21             4.4        2.2             3.1     3.9          3.7   4.1   \n",
            "22             9.4        4.9             5.6     7.5          6.4   8.3   \n",
            "23             6.5        4.3             5.5     6.5          6.6   6.2   \n",
            "24            25.0       16.7            17.3    17.6         16.7  22.3   \n",
            "25            12.8       11.6             9.2    10.4         10.7  14.2   \n",
            "26            23.7       17.0            16.6    12.5         11.2  21.9   \n",
            "27            16.8        8.1            11.6     9.1          9.7  12.8   \n",
            "28             7.1        4.6             4.6     8.4          5.5   6.5   \n",
            "29             9.4        NaN             NaN     6.8          NaN   7.3   \n",
            "30             4.5        2.8             2.9     4.7          4.5   5.0   \n",
            "31            21.6       13.7            13.2    11.0          8.5  15.1   \n",
            "32             3.9        2.9             2.6     4.4          3.7   4.2   \n",
            "33            12.7        8.7             8.1     9.9         10.9  11.5   \n",
            "34            22.3       27.0            17.4    18.6         12.2  29.3   \n",
            "35            10.2        7.6             6.1     8.0          6.9   9.1   \n",
            "36            16.1       15.7            15.7    15.9         17.6  19.2   \n",
            "37             7.5        4.3             6.4     7.3          7.0   5.9   \n",
            "38             8.7        6.4             5.9     7.3          7.9   9.2   \n",
            "39             NaN        NaN             NaN     NaN          NaN   6.3   \n",
            "40            20.9       12.7            10.2    11.8         11.7  17.0   \n",
            "41            16.1       12.1            10.3    10.1         16.9  15.4   \n",
            "42            15.6       12.3            11.5    15.0         13.0  16.8   \n",
            "43            14.7        8.9             9.0     9.5         10.5  12.2   \n",
            "44            10.1        6.8             6.6     8.1          7.8   9.4   \n",
            "45             5.9        6.8             6.1     6.4          7.7   5.9   \n",
            "46             NaN        NaN             NaN     NaN          NaN  10.2   \n",
            "47             8.4        6.7             5.9     9.3          7.3   9.3   \n",
            "48             6.3        4.2             3.6     4.3          5.1   5.2   \n",
            "49            17.5       13.7            12.3    13.7         11.5  19.1   \n",
            "50            10.9        7.4             5.7     8.0          7.2   9.6   \n",
            "51            37.5       14.9            21.0    20.7         19.7  21.9   \n",
            "52             NaN        NaN             NaN     NaN          NaN   NaN   \n",
            "\n",
            "    male_2014  female  female_2014  \n",
            "0        17.2    10.0          9.0  \n",
            "1         7.5     NaN          NaN  \n",
            "2         7.3     4.7          4.8  \n",
            "3        16.0    10.4          8.1  \n",
            "4         5.7     2.7          2.8  \n",
            "5         7.5     4.1          4.4  \n",
            "6         6.0     2.9          2.0  \n",
            "7        10.3     4.1          6.3  \n",
            "8         NaN     NaN          NaN  \n",
            "9         8.0     4.4          4.2  \n",
            "10       11.3     5.5          5.5  \n",
            "11        3.9     NaN          NaN  \n",
            "12       10.6     6.9          6.5  \n",
            "13        6.3     3.2          3.8  \n",
            "14       11.2     5.3          4.6  \n",
            "15        9.7     6.0          5.0  \n",
            "16       14.7     6.7          6.2  \n",
            "17       15.8    10.1          7.4  \n",
            "18       16.4     7.1          6.4  \n",
            "19       10.1     5.8          5.0  \n",
            "20        6.0     3.7          2.9  \n",
            "21        4.6     1.7          1.5  \n",
            "22        7.8     4.2          4.3  \n",
            "23        6.9     4.0          3.5  \n",
            "24       22.7    10.0         10.6  \n",
            "25       13.8     6.3          5.3  \n",
            "26       19.1    10.9         10.3  \n",
            "27       14.3     5.7          6.2  \n",
            "28        6.5     4.3          4.0  \n",
            "29        5.0     2.8          4.2  \n",
            "30        4.7     2.4          2.2  \n",
            "31       15.6     6.9          8.2  \n",
            "32        3.8     2.0          1.8  \n",
            "33       12.2     5.9          5.9  \n",
            "34       21.8    10.5          6.8  \n",
            "35        8.2     4.7          4.8  \n",
            "36       18.9     9.6          9.7  \n",
            "37        6.0     4.2          7.6  \n",
            "38        8.2     4.4          4.0  \n",
            "39        NaN     NaN          NaN  \n",
            "40       16.0     7.2          8.1  \n",
            "41       17.1     8.5          7.7  \n",
            "42       15.0     6.9          7.4  \n",
            "43       13.0     6.0          6.1  \n",
            "44        9.2     4.7          4.5  \n",
            "45        7.2     5.0          4.6  \n",
            "46        NaN     6.5          NaN  \n",
            "47        8.0     4.3          4.0  \n",
            "48        5.7     2.5          2.9  \n",
            "49       14.0     7.2          8.3  \n",
            "50        8.8     5.1          4.3  \n",
            "51       27.7    12.9         14.3  \n",
            "52        NaN     NaN          NaN  \n"
          ]
        }
      ]
    },
    {
      "cell_type": "code",
      "source": [
        "print('Column Names:')\n",
        "print(df.columns)"
      ],
      "metadata": {
        "colab": {
          "base_uri": "https://localhost:8080/"
        },
        "id": "zfrDHRdCL0Jh",
        "outputId": "8a08f2bd-2fe6-4d12-9215-dc9155a4103b"
      },
      "execution_count": 4,
      "outputs": [
        {
          "output_type": "stream",
          "name": "stdout",
          "text": [
            "Column Names:\n",
            "Index(['state_not_geocoded', 'state', 'all_ages', 'all_ages_2014', 'age_0_20',\n",
            "       'age_0_20_2014', 'age_21_34', 'age_21_34_2014', 'age_35_54',\n",
            "       'age_35_54_2014', 'age_55', 'age_55_2014', 'male', 'male_2014',\n",
            "       'female', 'female_2014'],\n",
            "      dtype='object')\n"
          ]
        }
      ]
    },
    {
      "cell_type": "markdown",
      "source": [
        "# Save the DataFrame to the SQLite Database"
      ],
      "metadata": {
        "id": "WTpzfaLwRmdq"
      }
    },
    {
      "cell_type": "code",
      "source": [
        "df.to_sql('data', conn, if_exists='replace', index=False)"
      ],
      "metadata": {
        "colab": {
          "base_uri": "https://localhost:8080/"
        },
        "id": "DGUvm_anRtL9",
        "outputId": "6e993e0e-7d73-44b1-ff49-b2df4d719520"
      },
      "execution_count": 5,
      "outputs": [
        {
          "output_type": "execute_result",
          "data": {
            "text/plain": [
              "53"
            ]
          },
          "metadata": {},
          "execution_count": 5
        }
      ]
    },
    {
      "cell_type": "markdown",
      "source": [
        "# Preform SQL Queries Using SQLite and Pandas"
      ],
      "metadata": {
        "id": "_0gt4TtuO5Z6"
      }
    },
    {
      "cell_type": "code",
      "source": [
        "# Query 1: Select all records that show motor vehicle occupant death rate in each state between the ages 21 and 34\n",
        "query_1 ='SELECT state_not_geocoded, age_21_34 FROM data'\n",
        "result_df = pd.read_sql(query_1,conn)\n",
        "print(result_df)"
      ],
      "metadata": {
        "colab": {
          "base_uri": "https://localhost:8080/"
        },
        "id": "5R7uZ17hO0Hr",
        "outputId": "ef1090da-5722-4752-fe28-6903063d7f80"
      },
      "execution_count": 6,
      "outputs": [
        {
          "output_type": "stream",
          "name": "stdout",
          "text": [
            "      state_not_geocoded  age_21_34\n",
            "0                Alabama       20.8\n",
            "1                 Alaska        NaN\n",
            "2                Arizona       12.0\n",
            "3               Arkansas       20.3\n",
            "4             California        6.9\n",
            "5               Colorado        8.8\n",
            "6            Connecticut        7.5\n",
            "7               Delaware       13.0\n",
            "8   District of Columbia        NaN\n",
            "9                Florida       10.0\n",
            "10               Georgia       12.1\n",
            "11                Hawaii        NaN\n",
            "12                 Idaho       12.0\n",
            "13              Illinois        8.8\n",
            "14               Indiana       12.0\n",
            "15                  Iowa       11.7\n",
            "16                Kansas       13.9\n",
            "17              Kentucky       19.7\n",
            "18             Louisiana       15.6\n",
            "19                 Maine       18.0\n",
            "20              Maryland        9.3\n",
            "21         Massachusetts        4.7\n",
            "22              Michigan       10.9\n",
            "23             Minnesota        7.8\n",
            "24           Mississippi       24.6\n",
            "25              Missouri       15.3\n",
            "26               Montana       29.6\n",
            "27              Nebraska       13.6\n",
            "28                Nevada        6.2\n",
            "29         New Hampshire        NaN\n",
            "30            New Jersey        6.2\n",
            "31            New Mexico       14.3\n",
            "32              New York        4.1\n",
            "33        North Carolina       12.5\n",
            "34          North Dakota       25.2\n",
            "35                  Ohio        9.6\n",
            "36              Oklahoma       22.7\n",
            "37                Oregon        7.9\n",
            "38          Pennsylvania       11.1\n",
            "39          Rhode Island        NaN\n",
            "40        South Carolina       19.8\n",
            "41          South Dakota       17.9\n",
            "42             Tennessee       16.4\n",
            "43                 Texas       14.5\n",
            "44         United States       10.8\n",
            "45                  Utah        6.7\n",
            "46               Vermont       19.2\n",
            "47              Virginia        8.9\n",
            "48            Washington        5.3\n",
            "49         West Virginia       22.6\n",
            "50             Wisconsin       10.9\n",
            "51               Wyoming       29.5\n",
            "52                  None        NaN\n"
          ]
        }
      ]
    },
    {
      "cell_type": "code",
      "source": [
        "# Query 2: Count the number of records showing motor vechicle occupant death rate by state where the death rate for people between the ages 21 and 34 is more then 10.0\n",
        "query_2 ='SELECT state_not_geocoded, age_21_34 FROM data WHERE age_21_34 >10.0'\n",
        "result_df = pd.read_sql(query_2,conn)\n",
        "print(result_df)"
      ],
      "metadata": {
        "colab": {
          "base_uri": "https://localhost:8080/"
        },
        "id": "hjwkxrrrPIrd",
        "outputId": "a58bce12-6344-45ec-b4f0-10ac7983e946"
      },
      "execution_count": 9,
      "outputs": [
        {
          "output_type": "stream",
          "name": "stdout",
          "text": [
            "   state_not_geocoded  age_21_34\n",
            "0             Alabama       20.8\n",
            "1             Arizona       12.0\n",
            "2            Arkansas       20.3\n",
            "3            Delaware       13.0\n",
            "4             Georgia       12.1\n",
            "5               Idaho       12.0\n",
            "6             Indiana       12.0\n",
            "7                Iowa       11.7\n",
            "8              Kansas       13.9\n",
            "9            Kentucky       19.7\n",
            "10          Louisiana       15.6\n",
            "11              Maine       18.0\n",
            "12           Michigan       10.9\n",
            "13        Mississippi       24.6\n",
            "14           Missouri       15.3\n",
            "15            Montana       29.6\n",
            "16           Nebraska       13.6\n",
            "17         New Mexico       14.3\n",
            "18     North Carolina       12.5\n",
            "19       North Dakota       25.2\n",
            "20           Oklahoma       22.7\n",
            "21       Pennsylvania       11.1\n",
            "22     South Carolina       19.8\n",
            "23       South Dakota       17.9\n",
            "24          Tennessee       16.4\n",
            "25              Texas       14.5\n",
            "26      United States       10.8\n",
            "27            Vermont       19.2\n",
            "28      West Virginia       22.6\n",
            "29          Wisconsin       10.9\n",
            "30            Wyoming       29.5\n"
          ]
        }
      ]
    },
    {
      "cell_type": "code",
      "source": [
        "# Query 3: Group the data by a specific column and calculate a summary statistic\n",
        "query_3 ='SELECT state_not_geocoded, age_21_34, COUNT(*) AS \"total death count\" FROM data GROUP BY age_21_34, state_not_geocoded'\n",
        "result_df = pd.read_sql(query_3,conn)\n",
        "print(result_df)"
      ],
      "metadata": {
        "colab": {
          "base_uri": "https://localhost:8080/"
        },
        "id": "BJT8QxXFPMCz",
        "outputId": "ed6b8abf-ca85-4662-cd45-806382953a72"
      },
      "execution_count": 29,
      "outputs": [
        {
          "output_type": "stream",
          "name": "stdout",
          "text": [
            "      state_not_geocoded  age_21_34  total death count\n",
            "0                   None        NaN                  1\n",
            "1                 Alaska        NaN                  1\n",
            "2   District of Columbia        NaN                  1\n",
            "3                 Hawaii        NaN                  1\n",
            "4          New Hampshire        NaN                  1\n",
            "5           Rhode Island        NaN                  1\n",
            "6               New York        4.1                  1\n",
            "7          Massachusetts        4.7                  1\n",
            "8             Washington        5.3                  1\n",
            "9                 Nevada        6.2                  1\n",
            "10            New Jersey        6.2                  1\n",
            "11                  Utah        6.7                  1\n",
            "12            California        6.9                  1\n",
            "13           Connecticut        7.5                  1\n",
            "14             Minnesota        7.8                  1\n",
            "15                Oregon        7.9                  1\n",
            "16              Colorado        8.8                  1\n",
            "17              Illinois        8.8                  1\n",
            "18              Virginia        8.9                  1\n",
            "19              Maryland        9.3                  1\n",
            "20                  Ohio        9.6                  1\n",
            "21               Florida       10.0                  1\n",
            "22         United States       10.8                  1\n",
            "23              Michigan       10.9                  1\n",
            "24             Wisconsin       10.9                  1\n",
            "25          Pennsylvania       11.1                  1\n",
            "26                  Iowa       11.7                  1\n",
            "27               Arizona       12.0                  1\n",
            "28                 Idaho       12.0                  1\n",
            "29               Indiana       12.0                  1\n",
            "30               Georgia       12.1                  1\n",
            "31        North Carolina       12.5                  1\n",
            "32              Delaware       13.0                  1\n",
            "33              Nebraska       13.6                  1\n",
            "34                Kansas       13.9                  1\n",
            "35            New Mexico       14.3                  1\n",
            "36                 Texas       14.5                  1\n",
            "37              Missouri       15.3                  1\n",
            "38             Louisiana       15.6                  1\n",
            "39             Tennessee       16.4                  1\n",
            "40          South Dakota       17.9                  1\n",
            "41                 Maine       18.0                  1\n",
            "42               Vermont       19.2                  1\n",
            "43              Kentucky       19.7                  1\n",
            "44        South Carolina       19.8                  1\n",
            "45              Arkansas       20.3                  1\n",
            "46               Alabama       20.8                  1\n",
            "47         West Virginia       22.6                  1\n",
            "48              Oklahoma       22.7                  1\n",
            "49           Mississippi       24.6                  1\n",
            "50          North Dakota       25.2                  1\n",
            "51               Wyoming       29.5                  1\n",
            "52               Montana       29.6                  1\n"
          ]
        }
      ]
    },
    {
      "cell_type": "code",
      "source": [
        "# Query 4: Sort the records based top 5 states with the highest rates of motor vechicle occupant death between the age of 21 and 34\n",
        "query_4 ='SELECT state_not_geocoded, age_21_34 FROM data GROUP BY state ORDER BY \"total death count\" DESC LIMIT 5'\n",
        "result_df = pd.read_sql(query_4,conn)\n",
        "print(result_df)"
      ],
      "metadata": {
        "colab": {
          "base_uri": "https://localhost:8080/"
        },
        "id": "jT0boJ_fPTy-",
        "outputId": "e6687871-171e-4561-f1fe-9452a6b776d0"
      },
      "execution_count": 35,
      "outputs": [
        {
          "output_type": "stream",
          "name": "stdout",
          "text": [
            "  state_not_geocoded  age_21_34\n",
            "0            Wyoming       29.5\n",
            "1          Wisconsin       10.9\n",
            "2      West Virginia       22.6\n",
            "3         Washington        5.3\n",
            "4           Virginia        8.9\n"
          ]
        }
      ]
    },
    {
      "cell_type": "markdown",
      "source": [
        "# Close the Connection"
      ],
      "metadata": {
        "id": "Em_JR7yA9c5v"
      }
    },
    {
      "cell_type": "code",
      "source": [
        "conn.close()"
      ],
      "metadata": {
        "id": "2nCQn_-V9juh"
      },
      "execution_count": 37,
      "outputs": []
    }
  ]
}